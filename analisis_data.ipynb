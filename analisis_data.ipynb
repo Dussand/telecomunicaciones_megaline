{
 "cells": [
  {
   "cell_type": "markdown",
   "metadata": {},
   "source": [
    "## ANALISIS DEL PROYECTO : TELECOMUNICACIONES MEGALINE\n",
    "\n",
    "Paso 1: Preparacion de los datos "
   ]
  },
  {
   "cell_type": "markdown",
   "metadata": {},
   "source": [
    "1. Convierte los datos en tipos necesarios\n",
    "2. Encuentra y elimina errores en los datos. "
   ]
  },
  {
   "cell_type": "code",
   "execution_count": 223,
   "metadata": {},
   "outputs": [],
   "source": [
    "#Cargamos las librerias necesarias\n",
    "import pandas as pd\n",
    "import matplotlib.pyplot as plt\n",
    "import seaborn as sns\n",
    "import numpy as np\n",
    "from math import factorial\n",
    "from datetime import datetime\n",
    "from scipy import stats as st\n",
    "import math"
   ]
  },
  {
   "cell_type": "code",
   "execution_count": 224,
   "metadata": {},
   "outputs": [],
   "source": [
    "#cargamos lo archivos csv\n",
    "\n",
    "mega_calls = pd.read_csv(r'C:\\Users\\hp\\Desktop\\career_da\\python_projects\\t.megaline\\telecomunicaciones_megaline\\megaline_calls (1).csv')\n",
    "mega_internet = pd.read_csv(r'C:\\Users\\hp\\Desktop\\career_da\\python_projects\\t.megaline\\telecomunicaciones_megaline\\megaline_internet (1).csv')\n",
    "mega_messages = pd.read_csv(r'C:\\Users\\hp\\Desktop\\career_da\\python_projects\\t.megaline\\telecomunicaciones_megaline\\megaline_messages (1).csv')\n",
    "mega_plans = pd.read_csv(r'C:\\Users\\hp\\Desktop\\career_da\\python_projects\\t.megaline\\telecomunicaciones_megaline\\megaline_plans (1).csv')\n",
    "mega_users = pd.read_csv(r'C:\\Users\\hp\\Desktop\\career_da\\python_projects\\t.megaline\\telecomunicaciones_megaline\\megaline_users (1).csv')"
   ]
  },
  {
   "cell_type": "markdown",
   "metadata": {},
   "source": [
    "1. Conversion de los datos en tipos necesarios"
   ]
  },
  {
   "cell_type": "markdown",
   "metadata": {},
   "source": [
    "Revisamos los tipos de datos de cada dataframe para analizar a detalle el tipo de dato de cada columna, para asi poder corregirla"
   ]
  },
  {
   "cell_type": "code",
   "execution_count": 225,
   "metadata": {},
   "outputs": [
    {
     "name": "stdout",
     "output_type": "stream",
     "text": [
      "<class 'pandas.core.frame.DataFrame'>\n",
      "RangeIndex: 137735 entries, 0 to 137734\n",
      "Data columns (total 4 columns):\n",
      " #   Column     Non-Null Count   Dtype  \n",
      "---  ------     --------------   -----  \n",
      " 0   id         137735 non-null  object \n",
      " 1   user_id    137735 non-null  int64  \n",
      " 2   call_date  137735 non-null  object \n",
      " 3   duration   137735 non-null  float64\n",
      "dtypes: float64(1), int64(1), object(2)\n",
      "memory usage: 4.2+ MB\n"
     ]
    }
   ],
   "source": [
    "mega_calls.info()\n"
   ]
  },
  {
   "cell_type": "markdown",
   "metadata": {},
   "source": [
    "Se puede ver 4 columnas de el ID, el USER_ID, la fecha y la duracion, pero al imprimir la informacion se aprecia que la fecha está en un formato object, lo cual no es correcto, por lo que se debe corregir y colocar el formato que le corresponde"
   ]
  },
  {
   "cell_type": "code",
   "execution_count": 226,
   "metadata": {},
   "outputs": [],
   "source": [
    "#cambiamos el tipo de dato de la columna call_date\n",
    "mega_calls['call_date'] = pd.to_datetime(mega_calls['call_date'], format = '%Y-%m-%d')\n",
    "\n",
    "#redondeamos el tiempo al numero proximo mas cercano para un mejor analisis\n",
    "mega_calls['duration'] = mega_calls['duration'].apply(math.ceil)"
   ]
  },
  {
   "cell_type": "code",
   "execution_count": 227,
   "metadata": {},
   "outputs": [
    {
     "name": "stdout",
     "output_type": "stream",
     "text": [
      "<class 'pandas.core.frame.DataFrame'>\n",
      "RangeIndex: 76051 entries, 0 to 76050\n",
      "Data columns (total 3 columns):\n",
      " #   Column        Non-Null Count  Dtype \n",
      "---  ------        --------------  ----- \n",
      " 0   id            76051 non-null  object\n",
      " 1   user_id       76051 non-null  int64 \n",
      " 2   message_date  76051 non-null  object\n",
      "dtypes: int64(1), object(2)\n",
      "memory usage: 1.7+ MB\n"
     ]
    }
   ],
   "source": [
    "mega_messages.info()\n"
   ]
  },
  {
   "cell_type": "markdown",
   "metadata": {},
   "source": [
    "Se puede ver 3 columnas de el ID, el USER_ID y la fecha del mensaje , pero al imprimir la informacion se aprecia que la fecha está en un formato object, lo cual no es correcto, por lo que se debe corregir y colocar el formato que le corresponde"
   ]
  },
  {
   "cell_type": "code",
   "execution_count": 228,
   "metadata": {},
   "outputs": [],
   "source": [
    "#cambiamos el tipo de dato de la columna message_date\n",
    "mega_messages['message_date'] = pd.to_datetime(mega_messages['message_date'], format = '%Y-%m-%d')"
   ]
  },
  {
   "cell_type": "code",
   "execution_count": 229,
   "metadata": {},
   "outputs": [
    {
     "name": "stdout",
     "output_type": "stream",
     "text": [
      "<class 'pandas.core.frame.DataFrame'>\n",
      "RangeIndex: 104825 entries, 0 to 104824\n",
      "Data columns (total 4 columns):\n",
      " #   Column        Non-Null Count   Dtype  \n",
      "---  ------        --------------   -----  \n",
      " 0   id            104825 non-null  object \n",
      " 1   user_id       104825 non-null  int64  \n",
      " 2   session_date  104825 non-null  object \n",
      " 3   mb_used       104825 non-null  float64\n",
      "dtypes: float64(1), int64(1), object(2)\n",
      "memory usage: 3.2+ MB\n"
     ]
    }
   ],
   "source": [
    "mega_internet.info()\n"
   ]
  },
  {
   "cell_type": "markdown",
   "metadata": {},
   "source": [
    "Se puede ver 4 columnas de el ID, el USER_ID, la fecha y los mb, pero al imprimir la informacion se aprecia que la fecha está en un formato object, lo cual no es correcto, por lo que se debe corregir y colocar el formato que le corresponde y ademas que no la empresa utiliza gb y no mb, por lo que es mas conveniente. Asi que se le cambiaría el nombre de la columna y convertiría lo mb en gb. "
   ]
  },
  {
   "cell_type": "code",
   "execution_count": 230,
   "metadata": {},
   "outputs": [],
   "source": [
    "#cambiamos el nombre de la columna el nombre mas conveniente y al que vamos a usar, en este caso usaremos gb\n",
    "mega_internet = mega_internet.rename(columns = {'mb_used':'gb_used'})\n",
    "\n",
    "\n",
    "#Asi como tambien llevaremos los mb a gb redondeados\n",
    "mega_internet['gb_used'] = (mega_internet['gb_used']/1024).apply(math.ceil)\n",
    "\n",
    "#y una vez mas cambiamos la columna date del dataframe a un tipo de dato fecha\n",
    "mega_internet['session_date'] = pd.to_datetime(mega_internet['session_date'], format = '%Y-%m-%d')"
   ]
  },
  {
   "cell_type": "code",
   "execution_count": 231,
   "metadata": {},
   "outputs": [
    {
     "name": "stdout",
     "output_type": "stream",
     "text": [
      "<class 'pandas.core.frame.DataFrame'>\n",
      "RangeIndex: 2 entries, 0 to 1\n",
      "Data columns (total 8 columns):\n",
      " #   Column                 Non-Null Count  Dtype  \n",
      "---  ------                 --------------  -----  \n",
      " 0   messages_included      2 non-null      int64  \n",
      " 1   mb_per_month_included  2 non-null      int64  \n",
      " 2   minutes_included       2 non-null      int64  \n",
      " 3   usd_monthly_pay        2 non-null      int64  \n",
      " 4   usd_per_gb             2 non-null      int64  \n",
      " 5   usd_per_message        2 non-null      float64\n",
      " 6   usd_per_minute         2 non-null      float64\n",
      " 7   plan_name              2 non-null      object \n",
      "dtypes: float64(2), int64(5), object(1)\n",
      "memory usage: 260.0+ bytes\n"
     ]
    }
   ],
   "source": [
    "mega_plans.info()\n"
   ]
  },
  {
   "cell_type": "markdown",
   "metadata": {},
   "source": [
    "En la informacion resumida del dataframe de tarifas se puede observar 8 columnas que nos dan una info acerca de los planes que ofrece la empresa, como lo es los mensajes que proporciona cada plan, los MB por mes, minutos para poder hacer llamadas, el pago que se hace mensual y los precios, por gb, mensaje y minuto de cada plan.\n",
    "\n",
    "Dentro de los datos, puedo apreciar que el Dtype que tienen se puede considerar el adecuado para poder trabajar con ellos, no hay ningun dato ausente, pero se tiene que considerar las indicaciones dadas sobre los GB/MG. "
   ]
  },
  {
   "cell_type": "code",
   "execution_count": 232,
   "metadata": {},
   "outputs": [
    {
     "data": {
      "text/html": [
       "<div>\n",
       "<style scoped>\n",
       "    .dataframe tbody tr th:only-of-type {\n",
       "        vertical-align: middle;\n",
       "    }\n",
       "\n",
       "    .dataframe tbody tr th {\n",
       "        vertical-align: top;\n",
       "    }\n",
       "\n",
       "    .dataframe thead th {\n",
       "        text-align: right;\n",
       "    }\n",
       "</style>\n",
       "<table border=\"1\" class=\"dataframe\">\n",
       "  <thead>\n",
       "    <tr style=\"text-align: right;\">\n",
       "      <th></th>\n",
       "      <th>messages_included</th>\n",
       "      <th>mb_per_month_included</th>\n",
       "      <th>minutes_included</th>\n",
       "      <th>usd_monthly_pay</th>\n",
       "      <th>usd_per_gb</th>\n",
       "      <th>usd_per_message</th>\n",
       "      <th>usd_per_minute</th>\n",
       "      <th>plan_name</th>\n",
       "    </tr>\n",
       "  </thead>\n",
       "  <tbody>\n",
       "    <tr>\n",
       "      <th>0</th>\n",
       "      <td>50</td>\n",
       "      <td>15360</td>\n",
       "      <td>500</td>\n",
       "      <td>20</td>\n",
       "      <td>10</td>\n",
       "      <td>0.03</td>\n",
       "      <td>0.03</td>\n",
       "      <td>surf</td>\n",
       "    </tr>\n",
       "    <tr>\n",
       "      <th>1</th>\n",
       "      <td>1000</td>\n",
       "      <td>30720</td>\n",
       "      <td>3000</td>\n",
       "      <td>70</td>\n",
       "      <td>7</td>\n",
       "      <td>0.01</td>\n",
       "      <td>0.01</td>\n",
       "      <td>ultimate</td>\n",
       "    </tr>\n",
       "  </tbody>\n",
       "</table>\n",
       "</div>"
      ],
      "text/plain": [
       "   messages_included  mb_per_month_included  minutes_included  \\\n",
       "0                 50                  15360               500   \n",
       "1               1000                  30720              3000   \n",
       "\n",
       "   usd_monthly_pay  usd_per_gb  usd_per_message  usd_per_minute plan_name  \n",
       "0               20          10             0.03            0.03      surf  \n",
       "1               70           7             0.01            0.01  ultimate  "
      ]
     },
     "execution_count": 232,
     "metadata": {},
     "output_type": "execute_result"
    }
   ],
   "source": [
    "#mostramos el dataframe para una mejor guia\n",
    "mega_plans"
   ]
  },
  {
   "cell_type": "code",
   "execution_count": 233,
   "metadata": {},
   "outputs": [],
   "source": [
    "#Corregimos lo ya menccionado\n",
    "mega_plans = mega_plans.rename(columns = {'mb_per_month_included':'gb_per_month_included'})\n",
    "\n",
    "#Asi como tambien llevaremos los mb a gb redondeados\n",
    "mega_plans['gb_per_month_included'] = round(mega_plans['gb_per_month_included'] / 1024)\n",
    "\n"
   ]
  },
  {
   "cell_type": "code",
   "execution_count": 234,
   "metadata": {},
   "outputs": [
    {
     "data": {
      "text/html": [
       "<div>\n",
       "<style scoped>\n",
       "    .dataframe tbody tr th:only-of-type {\n",
       "        vertical-align: middle;\n",
       "    }\n",
       "\n",
       "    .dataframe tbody tr th {\n",
       "        vertical-align: top;\n",
       "    }\n",
       "\n",
       "    .dataframe thead th {\n",
       "        text-align: right;\n",
       "    }\n",
       "</style>\n",
       "<table border=\"1\" class=\"dataframe\">\n",
       "  <thead>\n",
       "    <tr style=\"text-align: right;\">\n",
       "      <th></th>\n",
       "      <th>messages_included</th>\n",
       "      <th>gb_per_month_included</th>\n",
       "      <th>minutes_included</th>\n",
       "      <th>usd_monthly_pay</th>\n",
       "      <th>usd_per_gb</th>\n",
       "      <th>usd_per_message</th>\n",
       "      <th>usd_per_minute</th>\n",
       "      <th>plan_name</th>\n",
       "    </tr>\n",
       "  </thead>\n",
       "  <tbody>\n",
       "    <tr>\n",
       "      <th>0</th>\n",
       "      <td>50</td>\n",
       "      <td>15.0</td>\n",
       "      <td>500</td>\n",
       "      <td>20</td>\n",
       "      <td>10</td>\n",
       "      <td>0.03</td>\n",
       "      <td>0.03</td>\n",
       "      <td>SURF</td>\n",
       "    </tr>\n",
       "    <tr>\n",
       "      <th>1</th>\n",
       "      <td>1000</td>\n",
       "      <td>30.0</td>\n",
       "      <td>3000</td>\n",
       "      <td>70</td>\n",
       "      <td>7</td>\n",
       "      <td>0.01</td>\n",
       "      <td>0.01</td>\n",
       "      <td>ULTIMATE</td>\n",
       "    </tr>\n",
       "  </tbody>\n",
       "</table>\n",
       "</div>"
      ],
      "text/plain": [
       "   messages_included  gb_per_month_included  minutes_included  \\\n",
       "0                 50                   15.0               500   \n",
       "1               1000                   30.0              3000   \n",
       "\n",
       "   usd_monthly_pay  usd_per_gb  usd_per_message  usd_per_minute plan_name  \n",
       "0               20          10             0.03            0.03      SURF  \n",
       "1               70           7             0.01            0.01  ULTIMATE  "
      ]
     },
     "execution_count": 234,
     "metadata": {},
     "output_type": "execute_result"
    }
   ],
   "source": [
    "#lo convertimo a mayuscula para un mejor analisis\n",
    "mega_plans['plan_name'] = mega_plans['plan_name'].str.upper()\n",
    "mega_plans"
   ]
  },
  {
   "cell_type": "code",
   "execution_count": 235,
   "metadata": {},
   "outputs": [
    {
     "name": "stdout",
     "output_type": "stream",
     "text": [
      "<class 'pandas.core.frame.DataFrame'>\n",
      "RangeIndex: 500 entries, 0 to 499\n",
      "Data columns (total 8 columns):\n",
      " #   Column      Non-Null Count  Dtype \n",
      "---  ------      --------------  ----- \n",
      " 0   user_id     500 non-null    int64 \n",
      " 1   first_name  500 non-null    object\n",
      " 2   last_name   500 non-null    object\n",
      " 3   age         500 non-null    int64 \n",
      " 4   city        500 non-null    object\n",
      " 5   reg_date    500 non-null    object\n",
      " 6   plan        500 non-null    object\n",
      " 7   churn_date  34 non-null     object\n",
      "dtypes: int64(2), object(6)\n",
      "memory usage: 31.4+ KB\n"
     ]
    }
   ],
   "source": [
    "mega_users.info()"
   ]
  },
  {
   "cell_type": "code",
   "execution_count": 236,
   "metadata": {},
   "outputs": [],
   "source": [
    "#Corregimos lo datos mencionados \n",
    "\n",
    "#corregimos el tipo de dato de la columna reg y churn date a un formato año/mes/dia\n",
    "mega_users['reg_date'] = pd.to_datetime(mega_users['reg_date'], format = '%Y-%m-%d')\n",
    "mega_users['churn_date'] = pd.to_datetime(mega_users['churn_date'], format = '%Y-%m-%d')\n",
    "\n",
    "#colocamos los nombres de los planes en mayuscula y cambiamo el nombre de la columna plan a plan_name\n",
    "mega_users['plan'] = mega_users['plan'].str.upper()\n",
    "mega_users = mega_users.rename(columns = {'plan':'plan_name'})\n"
   ]
  },
  {
   "cell_type": "markdown",
   "metadata": {},
   "source": [
    "A continuacion se graficará lo siguiente:\n",
    "\n",
    "1. El número de llamadas realizadas y minutos utilizados al mes.\n",
    "2. La cantidad de los SMS enviados por mes.\n",
    "3. El volumen de datos por mes.\n",
    "4. Los ingresos mensuales por cada usuario. Para ello, necesitas:\n",
    "5. Restar el límite del paquete gratuito del número total de llamadas, mensajes de texto y datos.\n",
    "6. Multiplicar el resultado por el valor de la tarifa de llamadas.\n",
    "7. Añadir la cuota mensual en función del plan de llamadas."
   ]
  },
  {
   "cell_type": "code",
   "execution_count": 237,
   "metadata": {},
   "outputs": [
    {
     "data": {
      "text/html": [
       "<div>\n",
       "<style scoped>\n",
       "    .dataframe tbody tr th:only-of-type {\n",
       "        vertical-align: middle;\n",
       "    }\n",
       "\n",
       "    .dataframe tbody tr th {\n",
       "        vertical-align: top;\n",
       "    }\n",
       "\n",
       "    .dataframe thead th {\n",
       "        text-align: right;\n",
       "    }\n",
       "</style>\n",
       "<table border=\"1\" class=\"dataframe\">\n",
       "  <thead>\n",
       "    <tr style=\"text-align: right;\">\n",
       "      <th></th>\n",
       "      <th>user_id</th>\n",
       "      <th>month</th>\n",
       "      <th>calls_counts</th>\n",
       "    </tr>\n",
       "  </thead>\n",
       "  <tbody>\n",
       "    <tr>\n",
       "      <th>0</th>\n",
       "      <td>1000</td>\n",
       "      <td>December</td>\n",
       "      <td>16</td>\n",
       "    </tr>\n",
       "    <tr>\n",
       "      <th>1</th>\n",
       "      <td>1001</td>\n",
       "      <td>August</td>\n",
       "      <td>27</td>\n",
       "    </tr>\n",
       "    <tr>\n",
       "      <th>2</th>\n",
       "      <td>1001</td>\n",
       "      <td>December</td>\n",
       "      <td>56</td>\n",
       "    </tr>\n",
       "    <tr>\n",
       "      <th>3</th>\n",
       "      <td>1001</td>\n",
       "      <td>November</td>\n",
       "      <td>64</td>\n",
       "    </tr>\n",
       "    <tr>\n",
       "      <th>4</th>\n",
       "      <td>1001</td>\n",
       "      <td>October</td>\n",
       "      <td>65</td>\n",
       "    </tr>\n",
       "    <tr>\n",
       "      <th>5</th>\n",
       "      <td>1001</td>\n",
       "      <td>September</td>\n",
       "      <td>49</td>\n",
       "    </tr>\n",
       "    <tr>\n",
       "      <th>6</th>\n",
       "      <td>1002</td>\n",
       "      <td>December</td>\n",
       "      <td>47</td>\n",
       "    </tr>\n",
       "    <tr>\n",
       "      <th>7</th>\n",
       "      <td>1002</td>\n",
       "      <td>November</td>\n",
       "      <td>55</td>\n",
       "    </tr>\n",
       "    <tr>\n",
       "      <th>8</th>\n",
       "      <td>1002</td>\n",
       "      <td>October</td>\n",
       "      <td>11</td>\n",
       "    </tr>\n",
       "    <tr>\n",
       "      <th>9</th>\n",
       "      <td>1003</td>\n",
       "      <td>December</td>\n",
       "      <td>149</td>\n",
       "    </tr>\n",
       "    <tr>\n",
       "      <th>10</th>\n",
       "      <td>1004</td>\n",
       "      <td>August</td>\n",
       "      <td>49</td>\n",
       "    </tr>\n",
       "    <tr>\n",
       "      <th>11</th>\n",
       "      <td>1004</td>\n",
       "      <td>December</td>\n",
       "      <td>50</td>\n",
       "    </tr>\n",
       "    <tr>\n",
       "      <th>12</th>\n",
       "      <td>1004</td>\n",
       "      <td>July</td>\n",
       "      <td>49</td>\n",
       "    </tr>\n",
       "    <tr>\n",
       "      <th>13</th>\n",
       "      <td>1004</td>\n",
       "      <td>June</td>\n",
       "      <td>44</td>\n",
       "    </tr>\n",
       "    <tr>\n",
       "      <th>14</th>\n",
       "      <td>1004</td>\n",
       "      <td>May</td>\n",
       "      <td>21</td>\n",
       "    </tr>\n",
       "    <tr>\n",
       "      <th>15</th>\n",
       "      <td>1004</td>\n",
       "      <td>November</td>\n",
       "      <td>54</td>\n",
       "    </tr>\n",
       "    <tr>\n",
       "      <th>16</th>\n",
       "      <td>1004</td>\n",
       "      <td>October</td>\n",
       "      <td>61</td>\n",
       "    </tr>\n",
       "    <tr>\n",
       "      <th>17</th>\n",
       "      <td>1004</td>\n",
       "      <td>September</td>\n",
       "      <td>42</td>\n",
       "    </tr>\n",
       "    <tr>\n",
       "      <th>18</th>\n",
       "      <td>1005</td>\n",
       "      <td>December</td>\n",
       "      <td>59</td>\n",
       "    </tr>\n",
       "    <tr>\n",
       "      <th>19</th>\n",
       "      <td>1006</td>\n",
       "      <td>December</td>\n",
       "      <td>9</td>\n",
       "    </tr>\n",
       "  </tbody>\n",
       "</table>\n",
       "</div>"
      ],
      "text/plain": [
       "    user_id      month  calls_counts\n",
       "0      1000   December            16\n",
       "1      1001     August            27\n",
       "2      1001   December            56\n",
       "3      1001   November            64\n",
       "4      1001    October            65\n",
       "5      1001  September            49\n",
       "6      1002   December            47\n",
       "7      1002   November            55\n",
       "8      1002    October            11\n",
       "9      1003   December           149\n",
       "10     1004     August            49\n",
       "11     1004   December            50\n",
       "12     1004       July            49\n",
       "13     1004       June            44\n",
       "14     1004        May            21\n",
       "15     1004   November            54\n",
       "16     1004    October            61\n",
       "17     1004  September            42\n",
       "18     1005   December            59\n",
       "19     1006   December             9"
      ]
     },
     "execution_count": 237,
     "metadata": {},
     "output_type": "execute_result"
    }
   ],
   "source": [
    "# Calcula el número de llamads hechas por cada usuario al mes. Guarda el resultado.\n",
    "\n",
    "#convierto la columna 'call_date' en un string que me indica el mes\n",
    "mega_calls['month'] = mega_calls['call_date'].dt.strftime('%B')\n",
    "\n",
    "#agrupo las llamadas hechas por los usuarios 'user_id' por cada mes que aparece en el dataframe\n",
    "llamadas_hechas = mega_calls.groupby(['user_id', 'month'])['duration'].count().reset_index(name = 'calls_counts')\n",
    "\n",
    "#imprimo la variable\n",
    "llamadas_hechas.head(20)\n"
   ]
  },
  {
   "cell_type": "code",
   "execution_count": 238,
   "metadata": {},
   "outputs": [
    {
     "data": {
      "image/png": "[encoded data removed]",
      "text/plain": [
       "<Figure size 640x480 with 1 Axes>"
      ]
     },
     "metadata": {},
     "output_type": "display_data"
    }
   ],
   "source": [
    "#agrupamos por mes\n",
    "call_months = llamadas_hechas.groupby('month')['calls_counts'].sum().reset_index(name = 'call_months').sort_values(by = 'call_months', ascending = False)\n",
    "call_months\n",
    "#mostramos un histograma de las llamadas hechas por cada mes\n",
    "plt.bar(call_months['month'], call_months['call_months'])\n",
    "plt.xticks(rotation = 45)\n",
    "plt.ylabel('Cantidad de llamadas')\n",
    "plt.xlabel('mes')\n",
    "plt.title('Llamadas por mes')\n",
    "plt.show()"
   ]
  },
  {
   "cell_type": "code",
   "execution_count": 239,
   "metadata": {},
   "outputs": [
    {
     "data": {
      "text/html": [
       "<div>\n",
       "<style scoped>\n",
       "    .dataframe tbody tr th:only-of-type {\n",
       "        vertical-align: middle;\n",
       "    }\n",
       "\n",
       "    .dataframe tbody tr th {\n",
       "        vertical-align: top;\n",
       "    }\n",
       "\n",
       "    .dataframe thead th {\n",
       "        text-align: right;\n",
       "    }\n",
       "</style>\n",
       "<table border=\"1\" class=\"dataframe\">\n",
       "  <thead>\n",
       "    <tr style=\"text-align: right;\">\n",
       "      <th></th>\n",
       "      <th>user_id</th>\n",
       "      <th>month</th>\n",
       "      <th>used_minutes</th>\n",
       "    </tr>\n",
       "  </thead>\n",
       "  <tbody>\n",
       "    <tr>\n",
       "      <th>0</th>\n",
       "      <td>1000</td>\n",
       "      <td>December</td>\n",
       "      <td>124</td>\n",
       "    </tr>\n",
       "    <tr>\n",
       "      <th>1</th>\n",
       "      <td>1001</td>\n",
       "      <td>August</td>\n",
       "      <td>182</td>\n",
       "    </tr>\n",
       "    <tr>\n",
       "      <th>2</th>\n",
       "      <td>1001</td>\n",
       "      <td>December</td>\n",
       "      <td>412</td>\n",
       "    </tr>\n",
       "    <tr>\n",
       "      <th>3</th>\n",
       "      <td>1001</td>\n",
       "      <td>November</td>\n",
       "      <td>426</td>\n",
       "    </tr>\n",
       "    <tr>\n",
       "      <th>4</th>\n",
       "      <td>1001</td>\n",
       "      <td>October</td>\n",
       "      <td>393</td>\n",
       "    </tr>\n",
       "  </tbody>\n",
       "</table>\n",
       "</div>"
      ],
      "text/plain": [
       "   user_id     month  used_minutes\n",
       "0     1000  December           124\n",
       "1     1001    August           182\n",
       "2     1001  December           412\n",
       "3     1001  November           426\n",
       "4     1001   October           393"
      ]
     },
     "execution_count": 239,
     "metadata": {},
     "output_type": "execute_result"
    }
   ],
   "source": [
    "# Calcula la cantidad de minutos usados por cada usuario al mes.\n",
    "\n",
    "#asigno una variable para calcular los minuto usados por user por mes\n",
    "minutos_usados_por_mes = mega_calls.groupby(['user_id', 'month'])['duration'].sum().reset_index(name = 'used_minutes')\n",
    "\n",
    "#imprimo resultado\n",
    "minutos_usados_por_mes.head()"
   ]
  },
  {
   "cell_type": "code",
   "execution_count": 240,
   "metadata": {},
   "outputs": [
    {
     "data": {
      "text/html": [
       "<div>\n",
       "<style scoped>\n",
       "    .dataframe tbody tr th:only-of-type {\n",
       "        vertical-align: middle;\n",
       "    }\n",
       "\n",
       "    .dataframe tbody tr th {\n",
       "        vertical-align: top;\n",
       "    }\n",
       "\n",
       "    .dataframe thead th {\n",
       "        text-align: right;\n",
       "    }\n",
       "</style>\n",
       "<table border=\"1\" class=\"dataframe\">\n",
       "  <thead>\n",
       "    <tr style=\"text-align: right;\">\n",
       "      <th></th>\n",
       "      <th>user_id</th>\n",
       "      <th>month</th>\n",
       "      <th>send_messages</th>\n",
       "    </tr>\n",
       "  </thead>\n",
       "  <tbody>\n",
       "    <tr>\n",
       "      <th>0</th>\n",
       "      <td>1000</td>\n",
       "      <td>December</td>\n",
       "      <td>11</td>\n",
       "    </tr>\n",
       "    <tr>\n",
       "      <th>1</th>\n",
       "      <td>1001</td>\n",
       "      <td>August</td>\n",
       "      <td>30</td>\n",
       "    </tr>\n",
       "    <tr>\n",
       "      <th>2</th>\n",
       "      <td>1001</td>\n",
       "      <td>December</td>\n",
       "      <td>44</td>\n",
       "    </tr>\n",
       "    <tr>\n",
       "      <th>3</th>\n",
       "      <td>1001</td>\n",
       "      <td>November</td>\n",
       "      <td>36</td>\n",
       "    </tr>\n",
       "    <tr>\n",
       "      <th>4</th>\n",
       "      <td>1001</td>\n",
       "      <td>October</td>\n",
       "      <td>53</td>\n",
       "    </tr>\n",
       "  </tbody>\n",
       "</table>\n",
       "</div>"
      ],
      "text/plain": [
       "   user_id     month  send_messages\n",
       "0     1000  December             11\n",
       "1     1001    August             30\n",
       "2     1001  December             44\n",
       "3     1001  November             36\n",
       "4     1001   October             53"
      ]
     },
     "execution_count": 240,
     "metadata": {},
     "output_type": "execute_result"
    }
   ],
   "source": [
    "# Calcula el número de mensajes enviados por cada usuario al mes. \n",
    "mega_messages['month'] =mega_messages['message_date'].dt.strftime('%B')\n",
    "\n",
    "#agrupamos por id y mes y contamos los mensajesenviamos\n",
    "mensajes_enviados = mega_messages.groupby(['user_id', 'month'])['id'].count().reset_index(name = 'send_messages')\n",
    "mensajes_enviados.head()"
   ]
  },
  {
   "cell_type": "code",
   "execution_count": null,
   "metadata": {},
   "outputs": [],
   "source": []
  },
  {
   "cell_type": "code",
   "execution_count": 241,
   "metadata": {},
   "outputs": [
    {
     "data": {
      "text/html": [
       "<div>\n",
       "<style scoped>\n",
       "    .dataframe tbody tr th:only-of-type {\n",
       "        vertical-align: middle;\n",
       "    }\n",
       "\n",
       "    .dataframe tbody tr th {\n",
       "        vertical-align: top;\n",
       "    }\n",
       "\n",
       "    .dataframe thead th {\n",
       "        text-align: right;\n",
       "    }\n",
       "</style>\n",
       "<table border=\"1\" class=\"dataframe\">\n",
       "  <thead>\n",
       "    <tr style=\"text-align: right;\">\n",
       "      <th></th>\n",
       "      <th>user_id</th>\n",
       "      <th>month</th>\n",
       "      <th>internet_trafic</th>\n",
       "    </tr>\n",
       "  </thead>\n",
       "  <tbody>\n",
       "    <tr>\n",
       "      <th>0</th>\n",
       "      <td>1000</td>\n",
       "      <td>December</td>\n",
       "      <td>4</td>\n",
       "    </tr>\n",
       "    <tr>\n",
       "      <th>1</th>\n",
       "      <td>1001</td>\n",
       "      <td>August</td>\n",
       "      <td>21</td>\n",
       "    </tr>\n",
       "    <tr>\n",
       "      <th>2</th>\n",
       "      <td>1001</td>\n",
       "      <td>December</td>\n",
       "      <td>55</td>\n",
       "    </tr>\n",
       "    <tr>\n",
       "      <th>3</th>\n",
       "      <td>1001</td>\n",
       "      <td>November</td>\n",
       "      <td>49</td>\n",
       "    </tr>\n",
       "    <tr>\n",
       "      <th>4</th>\n",
       "      <td>1001</td>\n",
       "      <td>October</td>\n",
       "      <td>50</td>\n",
       "    </tr>\n",
       "  </tbody>\n",
       "</table>\n",
       "</div>"
      ],
      "text/plain": [
       "   user_id     month  internet_trafic\n",
       "0     1000  December                4\n",
       "1     1001    August               21\n",
       "2     1001  December               55\n",
       "3     1001  November               49\n",
       "4     1001   October               50"
      ]
     },
     "execution_count": 241,
     "metadata": {},
     "output_type": "execute_result"
    }
   ],
   "source": [
    "# Calcula el volumen del tráfico de Internet usado por cada usuario al mes. Guarda el resultado.\n",
    "mega_internet['month'] = mega_internet['session_date'].dt.strftime('%B')\n",
    "#agrupamos por id y mes y contamos los mensajesenviamos\n",
    "trafico_internet = mega_internet.groupby(['user_id', 'month'])['gb_used'].sum().reset_index(name = 'internet_trafic')\n",
    "\n",
    "trafico_internet.head()"
   ]
  },
  {
   "cell_type": "code",
   "execution_count": 242,
   "metadata": {},
   "outputs": [
    {
     "data": {
      "text/html": [
       "<div>\n",
       "<style scoped>\n",
       "    .dataframe tbody tr th:only-of-type {\n",
       "        vertical-align: middle;\n",
       "    }\n",
       "\n",
       "    .dataframe tbody tr th {\n",
       "        vertical-align: top;\n",
       "    }\n",
       "\n",
       "    .dataframe thead th {\n",
       "        text-align: right;\n",
       "    }\n",
       "</style>\n",
       "<table border=\"1\" class=\"dataframe\">\n",
       "  <thead>\n",
       "    <tr style=\"text-align: right;\">\n",
       "      <th></th>\n",
       "      <th>user_id</th>\n",
       "      <th>month</th>\n",
       "      <th>calls_counts</th>\n",
       "      <th>used_minutes</th>\n",
       "      <th>send_messages</th>\n",
       "      <th>internet_trafic</th>\n",
       "    </tr>\n",
       "  </thead>\n",
       "  <tbody>\n",
       "    <tr>\n",
       "      <th>0</th>\n",
       "      <td>1000</td>\n",
       "      <td>December</td>\n",
       "      <td>16</td>\n",
       "      <td>124</td>\n",
       "      <td>11</td>\n",
       "      <td>4</td>\n",
       "    </tr>\n",
       "    <tr>\n",
       "      <th>1</th>\n",
       "      <td>1001</td>\n",
       "      <td>August</td>\n",
       "      <td>27</td>\n",
       "      <td>182</td>\n",
       "      <td>30</td>\n",
       "      <td>21</td>\n",
       "    </tr>\n",
       "    <tr>\n",
       "      <th>2</th>\n",
       "      <td>1001</td>\n",
       "      <td>December</td>\n",
       "      <td>56</td>\n",
       "      <td>412</td>\n",
       "      <td>44</td>\n",
       "      <td>55</td>\n",
       "    </tr>\n",
       "    <tr>\n",
       "      <th>3</th>\n",
       "      <td>1001</td>\n",
       "      <td>November</td>\n",
       "      <td>64</td>\n",
       "      <td>426</td>\n",
       "      <td>36</td>\n",
       "      <td>49</td>\n",
       "    </tr>\n",
       "    <tr>\n",
       "      <th>4</th>\n",
       "      <td>1001</td>\n",
       "      <td>October</td>\n",
       "      <td>65</td>\n",
       "      <td>393</td>\n",
       "      <td>53</td>\n",
       "      <td>50</td>\n",
       "    </tr>\n",
       "  </tbody>\n",
       "</table>\n",
       "</div>"
      ],
      "text/plain": [
       "   user_id     month  calls_counts  used_minutes  send_messages  \\\n",
       "0     1000  December            16           124             11   \n",
       "1     1001    August            27           182             30   \n",
       "2     1001  December            56           412             44   \n",
       "3     1001  November            64           426             36   \n",
       "4     1001   October            65           393             53   \n",
       "\n",
       "   internet_trafic  \n",
       "0                4  \n",
       "1               21  \n",
       "2               55  \n",
       "3               49  \n",
       "4               50  "
      ]
     },
     "execution_count": 242,
     "metadata": {},
     "output_type": "execute_result"
    }
   ],
   "source": [
    "# Fusiona los datos de llamadas, minutos, mensajes e Internet con base en user_id y month\n",
    "total_mes_por_usuario = pd.merge(llamadas_hechas, minutos_usados_por_mes, on = ['user_id', 'month']).merge(mensajes_enviados, on = ['user_id', 'month']).merge(trafico_internet, on = ['user_id', 'month'])\n",
    "total_mes_por_usuario.head()"
   ]
  },
  {
   "cell_type": "code",
   "execution_count": 243,
   "metadata": {},
   "outputs": [
    {
     "data": {
      "text/html": [
       "<div>\n",
       "<style scoped>\n",
       "    .dataframe tbody tr th:only-of-type {\n",
       "        vertical-align: middle;\n",
       "    }\n",
       "\n",
       "    .dataframe tbody tr th {\n",
       "        vertical-align: top;\n",
       "    }\n",
       "\n",
       "    .dataframe thead th {\n",
       "        text-align: right;\n",
       "    }\n",
       "</style>\n",
       "<table border=\"1\" class=\"dataframe\">\n",
       "  <thead>\n",
       "    <tr style=\"text-align: right;\">\n",
       "      <th></th>\n",
       "      <th>user_id</th>\n",
       "      <th>first_name</th>\n",
       "      <th>last_name</th>\n",
       "      <th>age</th>\n",
       "      <th>city</th>\n",
       "      <th>reg_date</th>\n",
       "      <th>plan_name</th>\n",
       "      <th>churn_date</th>\n",
       "      <th>messages_included</th>\n",
       "      <th>gb_per_month_included</th>\n",
       "      <th>minutes_included</th>\n",
       "      <th>usd_monthly_pay</th>\n",
       "      <th>usd_per_gb</th>\n",
       "      <th>usd_per_message</th>\n",
       "      <th>usd_per_minute</th>\n",
       "      <th>month</th>\n",
       "      <th>calls_counts</th>\n",
       "      <th>used_minutes</th>\n",
       "      <th>send_messages</th>\n",
       "      <th>internet_trafic</th>\n",
       "    </tr>\n",
       "  </thead>\n",
       "  <tbody>\n",
       "    <tr>\n",
       "      <th>0</th>\n",
       "      <td>1000</td>\n",
       "      <td>Anamaria</td>\n",
       "      <td>Bauer</td>\n",
       "      <td>45</td>\n",
       "      <td>Atlanta-Sandy Springs-Roswell, GA MSA</td>\n",
       "      <td>2018-12-24</td>\n",
       "      <td>ULTIMATE</td>\n",
       "      <td>NaT</td>\n",
       "      <td>1000</td>\n",
       "      <td>30.0</td>\n",
       "      <td>3000</td>\n",
       "      <td>70</td>\n",
       "      <td>7</td>\n",
       "      <td>0.01</td>\n",
       "      <td>0.01</td>\n",
       "      <td>December</td>\n",
       "      <td>16.0</td>\n",
       "      <td>124.0</td>\n",
       "      <td>11.0</td>\n",
       "      <td>4.0</td>\n",
       "    </tr>\n",
       "    <tr>\n",
       "      <th>1</th>\n",
       "      <td>1001</td>\n",
       "      <td>Mickey</td>\n",
       "      <td>Wilkerson</td>\n",
       "      <td>28</td>\n",
       "      <td>Seattle-Tacoma-Bellevue, WA MSA</td>\n",
       "      <td>2018-08-13</td>\n",
       "      <td>SURF</td>\n",
       "      <td>NaT</td>\n",
       "      <td>50</td>\n",
       "      <td>15.0</td>\n",
       "      <td>500</td>\n",
       "      <td>20</td>\n",
       "      <td>10</td>\n",
       "      <td>0.03</td>\n",
       "      <td>0.03</td>\n",
       "      <td>August</td>\n",
       "      <td>27.0</td>\n",
       "      <td>182.0</td>\n",
       "      <td>30.0</td>\n",
       "      <td>21.0</td>\n",
       "    </tr>\n",
       "    <tr>\n",
       "      <th>2</th>\n",
       "      <td>1001</td>\n",
       "      <td>Mickey</td>\n",
       "      <td>Wilkerson</td>\n",
       "      <td>28</td>\n",
       "      <td>Seattle-Tacoma-Bellevue, WA MSA</td>\n",
       "      <td>2018-08-13</td>\n",
       "      <td>SURF</td>\n",
       "      <td>NaT</td>\n",
       "      <td>50</td>\n",
       "      <td>15.0</td>\n",
       "      <td>500</td>\n",
       "      <td>20</td>\n",
       "      <td>10</td>\n",
       "      <td>0.03</td>\n",
       "      <td>0.03</td>\n",
       "      <td>December</td>\n",
       "      <td>56.0</td>\n",
       "      <td>412.0</td>\n",
       "      <td>44.0</td>\n",
       "      <td>55.0</td>\n",
       "    </tr>\n",
       "    <tr>\n",
       "      <th>3</th>\n",
       "      <td>1001</td>\n",
       "      <td>Mickey</td>\n",
       "      <td>Wilkerson</td>\n",
       "      <td>28</td>\n",
       "      <td>Seattle-Tacoma-Bellevue, WA MSA</td>\n",
       "      <td>2018-08-13</td>\n",
       "      <td>SURF</td>\n",
       "      <td>NaT</td>\n",
       "      <td>50</td>\n",
       "      <td>15.0</td>\n",
       "      <td>500</td>\n",
       "      <td>20</td>\n",
       "      <td>10</td>\n",
       "      <td>0.03</td>\n",
       "      <td>0.03</td>\n",
       "      <td>November</td>\n",
       "      <td>64.0</td>\n",
       "      <td>426.0</td>\n",
       "      <td>36.0</td>\n",
       "      <td>49.0</td>\n",
       "    </tr>\n",
       "    <tr>\n",
       "      <th>4</th>\n",
       "      <td>1001</td>\n",
       "      <td>Mickey</td>\n",
       "      <td>Wilkerson</td>\n",
       "      <td>28</td>\n",
       "      <td>Seattle-Tacoma-Bellevue, WA MSA</td>\n",
       "      <td>2018-08-13</td>\n",
       "      <td>SURF</td>\n",
       "      <td>NaT</td>\n",
       "      <td>50</td>\n",
       "      <td>15.0</td>\n",
       "      <td>500</td>\n",
       "      <td>20</td>\n",
       "      <td>10</td>\n",
       "      <td>0.03</td>\n",
       "      <td>0.03</td>\n",
       "      <td>October</td>\n",
       "      <td>65.0</td>\n",
       "      <td>393.0</td>\n",
       "      <td>53.0</td>\n",
       "      <td>50.0</td>\n",
       "    </tr>\n",
       "  </tbody>\n",
       "</table>\n",
       "</div>"
      ],
      "text/plain": [
       "   user_id first_name  last_name  age                                   city  \\\n",
       "0     1000   Anamaria      Bauer   45  Atlanta-Sandy Springs-Roswell, GA MSA   \n",
       "1     1001     Mickey  Wilkerson   28        Seattle-Tacoma-Bellevue, WA MSA   \n",
       "2     1001     Mickey  Wilkerson   28        Seattle-Tacoma-Bellevue, WA MSA   \n",
       "3     1001     Mickey  Wilkerson   28        Seattle-Tacoma-Bellevue, WA MSA   \n",
       "4     1001     Mickey  Wilkerson   28        Seattle-Tacoma-Bellevue, WA MSA   \n",
       "\n",
       "    reg_date plan_name churn_date  messages_included  gb_per_month_included  \\\n",
       "0 2018-12-24  ULTIMATE        NaT               1000                   30.0   \n",
       "1 2018-08-13      SURF        NaT                 50                   15.0   \n",
       "2 2018-08-13      SURF        NaT                 50                   15.0   \n",
       "3 2018-08-13      SURF        NaT                 50                   15.0   \n",
       "4 2018-08-13      SURF        NaT                 50                   15.0   \n",
       "\n",
       "   minutes_included  usd_monthly_pay  usd_per_gb  usd_per_message  \\\n",
       "0              3000               70           7             0.01   \n",
       "1               500               20          10             0.03   \n",
       "2               500               20          10             0.03   \n",
       "3               500               20          10             0.03   \n",
       "4               500               20          10             0.03   \n",
       "\n",
       "   usd_per_minute     month  calls_counts  used_minutes  send_messages  \\\n",
       "0            0.01  December          16.0         124.0           11.0   \n",
       "1            0.03    August          27.0         182.0           30.0   \n",
       "2            0.03  December          56.0         412.0           44.0   \n",
       "3            0.03  November          64.0         426.0           36.0   \n",
       "4            0.03   October          65.0         393.0           53.0   \n",
       "\n",
       "   internet_trafic  \n",
       "0              4.0  \n",
       "1             21.0  \n",
       "2             55.0  \n",
       "3             49.0  \n",
       "4             50.0  "
      ]
     },
     "execution_count": 243,
     "metadata": {},
     "output_type": "execute_result"
    }
   ],
   "source": [
    "# Añade la información de la tarifa\n",
    "\n",
    "#se crea la variable 'plan_users' que se la union de los dataframe mega_users y mega_plans con la columna en comun 'plan_name'\n",
    "plan_users = mega_users.merge(mega_plans, on = 'plan_name', how = 'outer')\n",
    "\n",
    "#se realiza otro merge de plan users y el dataframe total_mes_por_usuario por user_id\n",
    "total_users = plan_users.merge(total_mes_por_usuario, on = 'user_id', how = 'outer')\n",
    "\n",
    "total_users.head()"
   ]
  },
  {
   "cell_type": "code",
   "execution_count": 244,
   "metadata": {},
   "outputs": [
    {
     "data": {
      "text/html": [
       "<div>\n",
       "<style scoped>\n",
       "    .dataframe tbody tr th:only-of-type {\n",
       "        vertical-align: middle;\n",
       "    }\n",
       "\n",
       "    .dataframe tbody tr th {\n",
       "        vertical-align: top;\n",
       "    }\n",
       "\n",
       "    .dataframe thead th {\n",
       "        text-align: right;\n",
       "    }\n",
       "</style>\n",
       "<table border=\"1\" class=\"dataframe\">\n",
       "  <thead>\n",
       "    <tr style=\"text-align: right;\">\n",
       "      <th></th>\n",
       "      <th>user_id</th>\n",
       "      <th>monthly_revenue</th>\n",
       "    </tr>\n",
       "  </thead>\n",
       "  <tbody>\n",
       "    <tr>\n",
       "      <th>0</th>\n",
       "      <td>1001</td>\n",
       "      <td>80.00</td>\n",
       "    </tr>\n",
       "    <tr>\n",
       "      <th>1</th>\n",
       "      <td>1001</td>\n",
       "      <td>420.00</td>\n",
       "    </tr>\n",
       "    <tr>\n",
       "      <th>2</th>\n",
       "      <td>1001</td>\n",
       "      <td>360.00</td>\n",
       "    </tr>\n",
       "    <tr>\n",
       "      <th>3</th>\n",
       "      <td>1001</td>\n",
       "      <td>370.09</td>\n",
       "    </tr>\n",
       "    <tr>\n",
       "      <th>4</th>\n",
       "      <td>1001</td>\n",
       "      <td>280.00</td>\n",
       "    </tr>\n",
       "  </tbody>\n",
       "</table>\n",
       "</div>"
      ],
      "text/plain": [
       "   user_id  monthly_revenue\n",
       "0     1001            80.00\n",
       "1     1001           420.00\n",
       "2     1001           360.00\n",
       "3     1001           370.09\n",
       "4     1001           280.00"
      ]
     },
     "execution_count": 244,
     "metadata": {},
     "output_type": "execute_result"
    }
   ],
   "source": [
    "# Calcula el ingreso mensual para cada usuario\n",
    "\n",
    "#agrupamos por usuario, mes plan y ciudad y sumamos la cantidad de llamadas, los minutos usados, los mensajes enviados y el internet consumido\n",
    "df_total_users = total_users.groupby(['user_id', 'month', 'plan_name', 'city'])[['calls_counts', 'used_minutes', 'send_messages', 'internet_trafic']].sum()\n",
    "\n",
    "#en otra variable se usa el agrupamiento para crear un dataframe independiente\n",
    "df_income = df_total_users.reset_index()\n",
    "\n",
    "income_monthly = df_income.merge(mega_plans, on = 'plan_name', how = 'outer')\n",
    "\n",
    "#se crean columnas hallando el exceso hay por cada llamada, mensaje e internet consumido durante el mes y se lleva a 0 los valores negativo\n",
    "income_monthly['excess_calls'] = (income_monthly['used_minutes'] - income_monthly['minutes_included']).clip(lower=0)\n",
    "income_monthly['excess_message'] = (income_monthly['send_messages'] - income_monthly['messages_included']).clip(lower=0)\n",
    "income_monthly['excess_internet'] = (income_monthly['internet_trafic'] - income_monthly['gb_per_month_included']).clip(lower=0)\n",
    "\n",
    "#se halla el ingreso mensual de los usuarios\n",
    "income_monthly['monthly_revenue'] = income_monthly['usd_per_minute'] * income_monthly['excess_calls'].clip(lower=0) + income_monthly['usd_per_message'] * income_monthly['excess_message'].clip(lower=0) + income_monthly['usd_per_gb'] * income_monthly['excess_internet'].clip(lower=0)+ income_monthly['usd_monthly_pay']\n",
    "\n",
    "\n",
    "income_monthly[['user_id', 'monthly_revenue']].head()\n"
   ]
  },
  {
   "cell_type": "markdown",
   "metadata": {},
   "source": [
    "## PASO 2: Analisis de lo datos"
   ]
  },
  {
   "cell_type": "markdown",
   "metadata": {},
   "source": [
    "Describe el comportamiento de la clientela:\n",
    "\n",
    "1. Encuentra los minutos, SMS y volumen de datos que requieren los usuarios de cada tarifa por mes.\n",
    "2. Calcula la media, la varianza y la desviación estándar.\n",
    "3. Traza histogramas. Describe las distribuciones."
   ]
  },
  {
   "cell_type": "code",
   "execution_count": 245,
   "metadata": {},
   "outputs": [
    {
     "data": {
      "image/png": "[encoded data removed]",
      "text/plain": [
       "<Figure size 640x480 with 1 Axes>"
      ]
     },
     "metadata": {},
     "output_type": "display_data"
    }
   ],
   "source": [
    "# Compararemos la duración promedio de llamadas por cada plan y por cada mes. Traza un gráfico de barras para visualizarla.\n",
    "\n",
    "#creamos un nuevo dataframe mostrando el promedio de los minutos usados por plan y mes\n",
    "mean_calls = income_monthly.groupby(['plan_name','month'])['used_minutes'].mean().reset_index(name = 'mean_calls')\n",
    "\n",
    "#filtramos la data por el nombre del plan SURF y ULTIMATE y lo guardamos en una variable para cada una\n",
    "surf_data = mean_calls.loc[mean_calls['plan_name'] == 'SURF']\n",
    "ultimate_data = mean_calls.loc[mean_calls['plan_name'] == 'ULTIMATE']\n",
    "\n",
    "#mostramos un grafico de barra superpuestos para cada plan\n",
    "plt.bar(surf_data['month'], surf_data['mean_calls'], label='SURF', color='blue', alpha = 0.5)\n",
    "plt.bar(ultimate_data['month'], ultimate_data['mean_calls'], label='ULTIMATE', color='orange')\n",
    "\n",
    "\n",
    "plt.xlabel('Mes')\n",
    "plt.ylabel('Media de llamadas')\n",
    "plt.title('Media de llamadas por mes y plan')\n",
    "plt.legend()\n",
    "plt.xticks(rotation=45)\n",
    "plt.show()                \n"
   ]
  },
  {
   "cell_type": "code",
   "execution_count": 247,
   "metadata": {},
   "outputs": [
    {
     "data": {
      "image/png": "[encoded data removed]",
      "text/plain": [
       "<Figure size 640x480 with 1 Axes>"
      ]
     },
     "metadata": {},
     "output_type": "display_data"
    }
   ],
   "source": [
    "# Compararemos el número de minutos mensuales que necesitan los usuarios de cada plan. Traza un histograma.\n",
    "\n",
    "#agrupamos por plan y por mes la suma de los minutos usados y lo guardamos en la variable total_minutes\n",
    "total_minutes = income_monthly.groupby(['plan_name','month'])['used_minutes'].sum().reset_index(name = 'total_minutes')\n",
    "\n",
    "#filtramos la la data por nombre del plan SURF y mostramos un histograma\n",
    "surf_data_minutes = total_minutes.loc[total_minutes['plan_name'] == 'SURF']['total_minutes']\n",
    "plt.hist(surf_data_minutes, bins=10, color='blue', alpha=0.7, label='SURF')\n",
    "\n",
    "#filtramos la la data por nombre del plan ULTIMATE y mostramos un histograma\n",
    "ultimate_data_minutes = total_minutes.loc[total_minutes['plan_name'] == 'ULTIMATE']['total_minutes']\n",
    "plt.hist(ultimate_data_minutes, bins=10, color='green', alpha=0.7, label='ULTIMATE')\n",
    "\n",
    "\n",
    "plt.xlabel('Minutos Mensuales Utilizados')\n",
    "plt.ylabel('Número de Usuarios')\n",
    "plt.title('Distribución de Minutos Mensuales Utilizados por Plan')\n",
    "plt.legend()\n",
    "plt.show()                "
   ]
  },
  {
   "cell_type": "code",
   "execution_count": 252,
   "metadata": {},
   "outputs": [
    {
     "name": "stdout",
     "output_type": "stream",
     "text": [
      "El promedio de duracion de las llamadas es: 444.7015349630472\n",
      "\n",
      "La varianza de la duracion mensual de llamadas es:  57582.92053802935 \n",
      "lo que indica que los datos de duración de llamadas\n",
      "están muy dispersos alrededor de la media.\n",
      "Esto significa que hay una gran variabilidad en cuánto duran las llamadas mensuales.\n"
     ]
    }
   ],
   "source": [
    "# Calcula la media y la varianza de la duración mensual de llamadas.\n",
    "\n",
    "duration_calls = income_monthly['used_minutes'].mean()\n",
    "varianza_calls = income_monthly['used_minutes'].var()\n",
    "\n",
    "print(f'El promedio de duracion de las llamadas es:', duration_calls)\n",
    "print()\n",
    "print(f'La varianza de la duracion mensual de llamadas es: ', varianza_calls, '\\nlo que indica que los datos de duración de llamadas\\nestán muy dispersos alrededor de la media.\\nEsto significa que hay una gran variabilidad en cuánto duran las llamadas mensuales.')"
   ]
  },
  {
   "cell_type": "code",
   "execution_count": 254,
   "metadata": {},
   "outputs": [
    {
     "data": {
      "image/png": "[encoded data removed]",
      "text/plain": [
       "<Figure size 640x480 with 1 Axes>"
      ]
     },
     "metadata": {},
     "output_type": "display_data"
    }
   ],
   "source": [
    "# Traza un diagrama de caja para visualizar la distribución de la duración mensual de llamadas\n",
    "\n",
    "#plt.figure(figsize=(10, 6))\n",
    "sns.boxplot(x='used_minutes', data=income_monthly)\n",
    "plt.title('Distribución de la duración mensual de llamadas')\n",
    "plt.xlabel('Duración (minutos)')\n",
    "plt.show()"
   ]
  },
  {
   "cell_type": "markdown",
   "metadata": {},
   "source": [
    "Tal y como indica la varianza calculada hay una gran cantidad de datos dispersados alrededor de la media lo que asegura que si hay una gran variabilidad de la duracion de las llamadas."
   ]
  },
  {
   "cell_type": "code",
   "execution_count": 270,
   "metadata": {},
   "outputs": [
    {
     "data": {
      "text/html": [
       "<div>\n",
       "<style scoped>\n",
       "    .dataframe tbody tr th:only-of-type {\n",
       "        vertical-align: middle;\n",
       "    }\n",
       "\n",
       "    .dataframe tbody tr th {\n",
       "        vertical-align: top;\n",
       "    }\n",
       "\n",
       "    .dataframe thead th {\n",
       "        text-align: right;\n",
       "    }\n",
       "</style>\n",
       "<table border=\"1\" class=\"dataframe\">\n",
       "  <thead>\n",
       "    <tr style=\"text-align: right;\">\n",
       "      <th></th>\n",
       "      <th>plan_name</th>\n",
       "      <th>total_users</th>\n",
       "    </tr>\n",
       "  </thead>\n",
       "  <tbody>\n",
       "    <tr>\n",
       "      <th>0</th>\n",
       "      <td>SURF</td>\n",
       "      <td>339</td>\n",
       "    </tr>\n",
       "    <tr>\n",
       "      <th>1</th>\n",
       "      <td>ULTIMATE</td>\n",
       "      <td>161</td>\n",
       "    </tr>\n",
       "  </tbody>\n",
       "</table>\n",
       "</div>"
      ],
      "text/plain": [
       "  plan_name  total_users\n",
       "0      SURF          339\n",
       "1  ULTIMATE          161"
      ]
     },
     "execution_count": 270,
     "metadata": {},
     "output_type": "execute_result"
    }
   ],
   "source": [
    "#agrupamos por plan y contamos la cantidad de usuarios unicos que tiene cada uno\n",
    "\n",
    "total_users = total_users.groupby('plan_name')['user_id'].nunique().reset_index(name = 'total_users')\n",
    "total_users"
   ]
  },
  {
   "cell_type": "code",
   "execution_count": 263,
   "metadata": {},
   "outputs": [
    {
     "name": "stdout",
     "output_type": "stream",
     "text": [
      "SURF MESSAGES AMOUNT: 46598.0\n",
      "ULTIMATE MESSAGES AMOUNT: 26898.0\n"
     ]
    },
    {
     "data": {
      "image/png": "[encoded data removed]",
      "text/plain": [
       "<Figure size 640x480 with 1 Axes>"
      ]
     },
     "metadata": {},
     "output_type": "display_data"
    }
   ],
   "source": [
    "# Comprara el número de mensajes que tienden a enviar cada mes los usuarios de cada plan\n",
    "\n",
    "total_messages = income_monthly.groupby(['plan_name','month'])['send_messages'].sum().reset_index(name = 'total_messages')\n",
    "\n",
    "surf_data_messages = total_messages.loc[total_messages['plan_name'] == 'SURF']\n",
    "print(f'SURF MESSAGES AMOUNT:', surf_data_messages['total_messages'].sum())\n",
    "ultimate_data_messages = total_messages.loc[total_messages['plan_name'] == 'ULTIMATE']\n",
    "print(f'ULTIMATE MESSAGES AMOUNT:', ultimate_data_messages['total_messages'].sum())\n",
    "\n",
    "\n",
    "plt.bar(surf_data_messages['month'], surf_data_messages['total_messages'], label='SURF', color='green', alpha = 0.5)\n",
    "plt.bar(ultimate_data_messages['month'], ultimate_data_messages['total_messages'], label='ULTIMATE', color='blue')\n",
    "\n",
    "\n",
    "plt.xlabel('Mes')\n",
    "plt.ylabel('Numero de mensajes')\n",
    "plt.title('Numero de mensajes por mes y plan')\n",
    "plt.legend()\n",
    "plt.xticks(rotation=45)\n",
    "plt.show()            \n",
    "\n",
    "\n"
   ]
  },
  {
   "cell_type": "markdown",
   "metadata": {},
   "source": [
    "Según este grafico, el plan SURF tiene casi el doble de mensajes enviados a comparacion del plan ULTIMATE, esto es debido a que existen mas usurios registrados al plan SURF que al plan ULTIMATE, lo que hace que hayan mas mensajes usados por SURF que ULTIMATE. Además se evidencia que el mes donde mas se envian mensajes es en el mes de diciembre, y los meses donde menos se envia mensajes (para ambos planes) es en lo meses de enero y febrero."
   ]
  },
  {
   "cell_type": "code",
   "execution_count": 265,
   "metadata": {},
   "outputs": [
    {
     "name": "stdout",
     "output_type": "stream",
     "text": [
      "SURF INTERNET AMOUNT: 47517.0\n",
      "ULTIMATE INTERNET AMOUNT: 23817.0\n"
     ]
    },
    {
     "data": {
      "image/png": "[encoded data removed]",
      "text/plain": [
       "<Figure size 640x480 with 1 Axes>"
      ]
     },
     "metadata": {},
     "output_type": "display_data"
    }
   ],
   "source": [
    "# Compara la cantidad de tráfico de Internet consumido por usuarios por plan\n",
    "\n",
    "total_internet = income_monthly.groupby(['plan_name','month'])['internet_trafic'].sum().reset_index(name = 'total_internet')\n",
    "\n",
    "\n",
    "surf_data_internet = total_internet.loc[total_internet['plan_name'] == 'SURF']\n",
    "print(f'SURF INTERNET AMOUNT:', surf_data_internet['total_internet'].sum())\n",
    "ultimate_data_interent = total_internet.loc[total_internet['plan_name'] == 'ULTIMATE']\n",
    "print(f'ULTIMATE INTERNET AMOUNT:', ultimate_data_interent['total_internet'].sum())\n",
    "\n",
    "plt.barh(surf_data_internet['month'], surf_data_internet['total_internet'], label='SURF', color='green', alpha = 0.5)\n",
    "\n",
    "plt.barh(ultimate_data_interent['month'], ultimate_data_interent['total_internet'], label='ULTIMATE', color='blue')\n",
    "\n",
    "\n",
    "\n",
    "plt.ylabel('Mes')\n",
    "plt.xlabel('Numero de internet (GB) consumido')\n",
    "plt.title('Numero de internet (GB) consumido por mes y plan')\n",
    "plt.legend()\n",
    "plt.xticks(rotation=45)\n",
    "plt.show()       "
   ]
  },
  {
   "cell_type": "markdown",
   "metadata": {},
   "source": [
    "Según este grafico, el plan SURF tiene casi el doble de internet consumido a comparacion del plan ULTIMATE, esto es debido a que existen mas usurios registrados al plan SURF que al plan ULTIMATE, lo que hace que hayan mas internet consumido por SURF que ULTIMATE"
   ]
  },
  {
   "cell_type": "code",
   "execution_count": 271,
   "metadata": {},
   "outputs": [],
   "source": [
    "#Describiriremos estadísticamente los ingresos de los planes.\n",
    "\n",
    "ultimate_info = income_monthly[income_monthly['plan_name'] == 'ULTIMATE']\n",
    "surf_info = income_monthly[income_monthly['plan_name'] == 'SURF']"
   ]
  },
  {
   "cell_type": "code",
   "execution_count": 280,
   "metadata": {},
   "outputs": [
    {
     "name": "stdout",
     "output_type": "stream",
     "text": [
      "PLAN SURF:\n",
      "count    1180.000000\n",
      "mean      282.822619\n",
      "std       159.681473\n",
      "min        20.000000\n",
      "25%       180.165000\n",
      "50%       290.000000\n",
      "75%       390.000000\n",
      "max      1210.370000\n",
      "Name: monthly_revenue, dtype: float64\n",
      "\n",
      "PLAN ULTIMATE:\n",
      "count    579.000000\n",
      "mean     165.074266\n",
      "std       84.618826\n",
      "min       70.000000\n",
      "25%       87.500000\n",
      "50%      154.000000\n",
      "75%      217.000000\n",
      "max      532.000000\n",
      "Name: monthly_revenue, dtype: float64\n"
     ]
    }
   ],
   "source": [
    "\n",
    "surf_behave = surf_info['monthly_revenue'].describe()\n",
    "\n",
    "print(f'PLAN SURF:\\n{surf_behave}')\n",
    "print()\n",
    "ultimate_behave = ultimate_info['monthly_revenue'].describe()\n",
    "print(f'PLAN ULTIMATE:\\n{ultimate_behave}')"
   ]
  },
  {
   "cell_type": "markdown",
   "metadata": {},
   "source": [
    "Para el plan SURF:\n",
    "\n",
    "La media de los ingresos mensuales es $282.82. Esto sugiere que, en promedio, los usuarios generan ingresos moderados por mes. La mediana de los ingresos es de 290, lo que nos de a saber que al menos la mitad de los usuarios generan ingresos de 290 dolares o menos por mes. En cuanto a la desviacion estandar que es de 159.68 dolares, nos dice que existe una alta variabilidad en los ingresos mensuales, se infiere que hay una gran dispersion en los ingresos generados por los usuarios, algunos incurriendo en gastos significativos.\n",
    "\n",
    "Para el plan ULTIMATE:\n",
    "\n",
    "La media de los ingresos del plan ULTIMATE es de 165.07 aproximadamente . La mediana de los ingresos es 154, lo que indica que al menos la mitad de los usuarios gneran ingresos de 154 dolares por mes. Se ve tambien, que la desviacion estandar de 84.61 dolares, lo que señala una variablidad considerada en los ingresos mensuales. \n"
   ]
  },
  {
   "cell_type": "markdown",
   "metadata": {},
   "source": []
  }
 ],
 "metadata": {
  "kernelspec": {
   "display_name": "Python 3",
   "language": "python",
   "name": "python3"
  },
  "language_info": {
   "codemirror_mode": {
    "name": "ipython",
    "version": 3
   },
   "file_extension": ".py",
   "mimetype": "text/x-python",
   "name": "python",
   "nbconvert_exporter": "python",
   "pygments_lexer": "ipython3",
   "version": "3.12.4"
  }
 },
 "nbformat": 4,
 "nbformat_minor": 2
}
