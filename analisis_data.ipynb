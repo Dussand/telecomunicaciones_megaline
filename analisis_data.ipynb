{
 "cells": [
  {
   "cell_type": "markdown",
   "metadata": {},
   "source": [
    "## ANALISIS DEL PROYECTO : TELECOMUNICACIONES MEGALINE\n",
    "\n",
    "Paso 1: Preparacion de los datos "
   ]
  },
  {
   "cell_type": "markdown",
   "metadata": {},
   "source": [
    "1. Convierte los datos en tipos necesarios\n",
    "2. Encuentra y elimina errores en los datos. "
   ]
  }
 ],
 "metadata": {
  "language_info": {
   "name": "python"
  }
 },
 "nbformat": 4,
 "nbformat_minor": 2
}
