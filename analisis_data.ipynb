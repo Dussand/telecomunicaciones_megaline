{
 "cells": [
  {
   "cell_type": "markdown",
   "metadata": {},
   "source": [
    "## ANALISIS DEL PROYECTO : TELECOMUNICACIONES MEGALINE\n",
    "\n",
    "Paso 1: Preparacion de los datos "
   ]
  },
  {
   "cell_type": "markdown",
   "metadata": {},
   "source": [
    "1. Convierte los datos en tipos necesarios\n",
    "2. Encuentra y elimina errores en los datos. "
   ]
  },
  {
   "cell_type": "code",
   "execution_count": 46,
   "metadata": {},
   "outputs": [],
   "source": [
    "#Cargamos las librerias necesarias\n",
    "import pandas as pd\n",
    "import matplotlib.pyplot as plt\n",
    "import seaborn as sns\n",
    "import numpy as np\n",
    "from math import factorial\n",
    "from datetime import datetime\n",
    "from scipy import stats as st\n",
    "import math"
   ]
  },
  {
   "cell_type": "code",
   "execution_count": 47,
   "metadata": {},
   "outputs": [],
   "source": [
    "#cargamos lo archivos csv\n",
    "\n",
    "mega_calls = pd.read_csv(r'C:\\Users\\hp\\Desktop\\career_da\\python_projects\\t.megaline\\telecomunicaciones_megaline\\megaline_calls (1).csv')\n",
    "mega_internet = pd.read_csv(r'C:\\Users\\hp\\Desktop\\career_da\\python_projects\\t.megaline\\telecomunicaciones_megaline\\megaline_internet (1).csv')\n",
    "mega_messages = pd.read_csv(r'C:\\Users\\hp\\Desktop\\career_da\\python_projects\\t.megaline\\telecomunicaciones_megaline\\megaline_messages (1).csv')\n",
    "mega_plans = pd.read_csv(r'C:\\Users\\hp\\Desktop\\career_da\\python_projects\\t.megaline\\telecomunicaciones_megaline\\megaline_plans (1).csv')\n",
    "mega_users = pd.read_csv(r'C:\\Users\\hp\\Desktop\\career_da\\python_projects\\t.megaline\\telecomunicaciones_megaline\\megaline_users (1).csv')"
   ]
  },
  {
   "cell_type": "markdown",
   "metadata": {},
   "source": [
    "1. Conversion de los datos en tipos necesarios"
   ]
  },
  {
   "cell_type": "markdown",
   "metadata": {},
   "source": [
    "Revisamos los tipos de datos de cada dataframe para analizar a detalle el tipo de dato de cada columna, para asi poder corregirla"
   ]
  },
  {
   "cell_type": "code",
   "execution_count": 48,
   "metadata": {},
   "outputs": [
    {
     "name": "stdout",
     "output_type": "stream",
     "text": [
      "<class 'pandas.core.frame.DataFrame'>\n",
      "RangeIndex: 137735 entries, 0 to 137734\n",
      "Data columns (total 4 columns):\n",
      " #   Column     Non-Null Count   Dtype  \n",
      "---  ------     --------------   -----  \n",
      " 0   id         137735 non-null  object \n",
      " 1   user_id    137735 non-null  int64  \n",
      " 2   call_date  137735 non-null  object \n",
      " 3   duration   137735 non-null  float64\n",
      "dtypes: float64(1), int64(1), object(2)\n",
      "memory usage: 4.2+ MB\n"
     ]
    }
   ],
   "source": [
    "mega_calls.info()\n"
   ]
  },
  {
   "cell_type": "markdown",
   "metadata": {},
   "source": [
    "Se puede ver 4 columnas de el ID, el USER_ID, la fecha y la duracion, pero al imprimir la informacion se aprecia que la fecha está en un formato object, lo cual no es correcto, por lo que se debe corregir y colocar el formato que le corresponde"
   ]
  },
  {
   "cell_type": "code",
   "execution_count": 49,
   "metadata": {},
   "outputs": [],
   "source": [
    "#cambiamos el tipo de dato de la columna call_date\n",
    "mega_calls['call_date'] = pd.to_datetime(mega_calls['call_date'], format = '%Y-%m-%d')\n",
    "\n",
    "#redondeamos el tiempo al numero proximo mas cercano para un mejor analisis\n",
    "mega_calls['duration'] = mega_calls['duration'].apply(math.ceil)"
   ]
  },
  {
   "cell_type": "code",
   "execution_count": 50,
   "metadata": {},
   "outputs": [
    {
     "name": "stdout",
     "output_type": "stream",
     "text": [
      "<class 'pandas.core.frame.DataFrame'>\n",
      "RangeIndex: 76051 entries, 0 to 76050\n",
      "Data columns (total 3 columns):\n",
      " #   Column        Non-Null Count  Dtype \n",
      "---  ------        --------------  ----- \n",
      " 0   id            76051 non-null  object\n",
      " 1   user_id       76051 non-null  int64 \n",
      " 2   message_date  76051 non-null  object\n",
      "dtypes: int64(1), object(2)\n",
      "memory usage: 1.7+ MB\n"
     ]
    }
   ],
   "source": [
    "mega_messages.info()\n"
   ]
  },
  {
   "cell_type": "markdown",
   "metadata": {},
   "source": [
    "Se puede ver 3 columnas de el ID, el USER_ID y la fecha del mensaje , pero al imprimir la informacion se aprecia que la fecha está en un formato object, lo cual no es correcto, por lo que se debe corregir y colocar el formato que le corresponde"
   ]
  },
  {
   "cell_type": "code",
   "execution_count": 51,
   "metadata": {},
   "outputs": [],
   "source": [
    "#cambiamos el tipo de dato de la columna message_date\n",
    "mega_messages['message_date'] = pd.to_datetime(mega_messages['message_date'], format = '%Y-%m-%d')"
   ]
  },
  {
   "cell_type": "code",
   "execution_count": 52,
   "metadata": {},
   "outputs": [
    {
     "name": "stdout",
     "output_type": "stream",
     "text": [
      "<class 'pandas.core.frame.DataFrame'>\n",
      "RangeIndex: 104825 entries, 0 to 104824\n",
      "Data columns (total 4 columns):\n",
      " #   Column        Non-Null Count   Dtype  \n",
      "---  ------        --------------   -----  \n",
      " 0   id            104825 non-null  object \n",
      " 1   user_id       104825 non-null  int64  \n",
      " 2   session_date  104825 non-null  object \n",
      " 3   mb_used       104825 non-null  float64\n",
      "dtypes: float64(1), int64(1), object(2)\n",
      "memory usage: 3.2+ MB\n"
     ]
    }
   ],
   "source": [
    "mega_internet.info()\n"
   ]
  },
  {
   "cell_type": "markdown",
   "metadata": {},
   "source": [
    "Se puede ver 4 columnas de el ID, el USER_ID, la fecha y los mb, pero al imprimir la informacion se aprecia que la fecha está en un formato object, lo cual no es correcto, por lo que se debe corregir y colocar el formato que le corresponde y ademas que no la empresa utiliza gb y no mb, por lo que es mas conveniente. Asi que se le cambiaría el nombre de la columna y convertiría lo mb en gb. "
   ]
  },
  {
   "cell_type": "code",
   "execution_count": 53,
   "metadata": {},
   "outputs": [],
   "source": [
    "#cambiamos el nombre de la columna el nombre mas conveniente y al que vamos a usar, en este caso usaremos gb\n",
    "mega_internet = mega_internet.rename(columns = {'mb_used':'gb_used'})\n",
    "\n",
    "\n",
    "#Asi como tambien llevaremos los mb a gb redondeados\n",
    "mega_internet['gb_used'] = (mega_internet['gb_used']/1024).apply(math.ceil)\n",
    "\n",
    "#y una vez mas cambiamos la columna date del dataframe a un tipo de dato fecha\n",
    "mega_internet['session_date'] = pd.to_datetime(mega_internet['session_date'], format = '%Y-%m-%d')"
   ]
  },
  {
   "cell_type": "code",
   "execution_count": 54,
   "metadata": {},
   "outputs": [
    {
     "name": "stdout",
     "output_type": "stream",
     "text": [
      "<class 'pandas.core.frame.DataFrame'>\n",
      "RangeIndex: 2 entries, 0 to 1\n",
      "Data columns (total 8 columns):\n",
      " #   Column                 Non-Null Count  Dtype  \n",
      "---  ------                 --------------  -----  \n",
      " 0   messages_included      2 non-null      int64  \n",
      " 1   mb_per_month_included  2 non-null      int64  \n",
      " 2   minutes_included       2 non-null      int64  \n",
      " 3   usd_monthly_pay        2 non-null      int64  \n",
      " 4   usd_per_gb             2 non-null      int64  \n",
      " 5   usd_per_message        2 non-null      float64\n",
      " 6   usd_per_minute         2 non-null      float64\n",
      " 7   plan_name              2 non-null      object \n",
      "dtypes: float64(2), int64(5), object(1)\n",
      "memory usage: 260.0+ bytes\n"
     ]
    }
   ],
   "source": [
    "mega_plans.info()\n"
   ]
  },
  {
   "cell_type": "markdown",
   "metadata": {},
   "source": [
    "En la informacion resumida del dataframe de tarifas se puede observar 8 columnas que nos dan una info acerca de los planes que ofrece la empresa, como lo es los mensajes que proporciona cada plan, los MB por mes, minutos para poder hacer llamadas, el pago que se hace mensual y los precios, por gb, mensaje y minuto de cada plan.\n",
    "\n",
    "Dentro de los datos, puedo apreciar que el Dtype que tienen se puede considerar el adecuado para poder trabajar con ellos, no hay ningun dato ausente, pero se tiene que considerar las indicaciones dadas sobre los GB/MG. "
   ]
  },
  {
   "cell_type": "code",
   "execution_count": 55,
   "metadata": {},
   "outputs": [
    {
     "data": {
      "text/html": [
       "<div>\n",
       "<style scoped>\n",
       "    .dataframe tbody tr th:only-of-type {\n",
       "        vertical-align: middle;\n",
       "    }\n",
       "\n",
       "    .dataframe tbody tr th {\n",
       "        vertical-align: top;\n",
       "    }\n",
       "\n",
       "    .dataframe thead th {\n",
       "        text-align: right;\n",
       "    }\n",
       "</style>\n",
       "<table border=\"1\" class=\"dataframe\">\n",
       "  <thead>\n",
       "    <tr style=\"text-align: right;\">\n",
       "      <th></th>\n",
       "      <th>messages_included</th>\n",
       "      <th>mb_per_month_included</th>\n",
       "      <th>minutes_included</th>\n",
       "      <th>usd_monthly_pay</th>\n",
       "      <th>usd_per_gb</th>\n",
       "      <th>usd_per_message</th>\n",
       "      <th>usd_per_minute</th>\n",
       "      <th>plan_name</th>\n",
       "    </tr>\n",
       "  </thead>\n",
       "  <tbody>\n",
       "    <tr>\n",
       "      <th>0</th>\n",
       "      <td>50</td>\n",
       "      <td>15360</td>\n",
       "      <td>500</td>\n",
       "      <td>20</td>\n",
       "      <td>10</td>\n",
       "      <td>0.03</td>\n",
       "      <td>0.03</td>\n",
       "      <td>surf</td>\n",
       "    </tr>\n",
       "    <tr>\n",
       "      <th>1</th>\n",
       "      <td>1000</td>\n",
       "      <td>30720</td>\n",
       "      <td>3000</td>\n",
       "      <td>70</td>\n",
       "      <td>7</td>\n",
       "      <td>0.01</td>\n",
       "      <td>0.01</td>\n",
       "      <td>ultimate</td>\n",
       "    </tr>\n",
       "  </tbody>\n",
       "</table>\n",
       "</div>"
      ],
      "text/plain": [
       "   messages_included  mb_per_month_included  minutes_included  \\\n",
       "0                 50                  15360               500   \n",
       "1               1000                  30720              3000   \n",
       "\n",
       "   usd_monthly_pay  usd_per_gb  usd_per_message  usd_per_minute plan_name  \n",
       "0               20          10             0.03            0.03      surf  \n",
       "1               70           7             0.01            0.01  ultimate  "
      ]
     },
     "execution_count": 55,
     "metadata": {},
     "output_type": "execute_result"
    }
   ],
   "source": [
    "#mostramos el dataframe para una mejor guia\n",
    "mega_plans"
   ]
  },
  {
   "cell_type": "code",
   "execution_count": 56,
   "metadata": {},
   "outputs": [],
   "source": [
    "#Corregimos lo ya menccionado\n",
    "mega_plans = mega_plans.rename(columns = {'mb_per_month_included':'gb_per_month_included'})\n",
    "\n",
    "#Asi como tambien llevaremos los mb a gb redondeados\n",
    "mega_plans['gb_per_month_included'] = round(mega_plans['gb_per_month_included'] / 1024)\n",
    "\n"
   ]
  },
  {
   "cell_type": "code",
   "execution_count": 57,
   "metadata": {},
   "outputs": [
    {
     "name": "stdout",
     "output_type": "stream",
     "text": [
      "<class 'pandas.core.frame.DataFrame'>\n",
      "RangeIndex: 500 entries, 0 to 499\n",
      "Data columns (total 8 columns):\n",
      " #   Column      Non-Null Count  Dtype \n",
      "---  ------      --------------  ----- \n",
      " 0   user_id     500 non-null    int64 \n",
      " 1   first_name  500 non-null    object\n",
      " 2   last_name   500 non-null    object\n",
      " 3   age         500 non-null    int64 \n",
      " 4   city        500 non-null    object\n",
      " 5   reg_date    500 non-null    object\n",
      " 6   plan        500 non-null    object\n",
      " 7   churn_date  34 non-null     object\n",
      "dtypes: int64(2), object(6)\n",
      "memory usage: 31.4+ KB\n"
     ]
    }
   ],
   "source": [
    "mega_users.info()"
   ]
  },
  {
   "cell_type": "code",
   "execution_count": 58,
   "metadata": {},
   "outputs": [],
   "source": [
    "#Corregimos lo datos mencionados \n",
    "\n",
    "#corregimos el tipo de dato de la columna reg y churn date a un formato año/mes/dia\n",
    "mega_users['reg_date'] = pd.to_datetime(mega_users['reg_date'], format = '%Y-%m-%d')\n",
    "mega_users['churn_date'] = pd.to_datetime(mega_users['churn_date'], format = '%Y-%m-%d')\n",
    "\n",
    "#colocamos los nombres de los planes en mayuscula y cambiamo el nombre de la columna plan a plan_name\n",
    "mega_users['plan'] = mega_users['plan'].str.upper()\n",
    "mega_users = mega_users.rename(columns = {'plan':'plan_name'})\n"
   ]
  },
  {
   "cell_type": "code",
   "execution_count": null,
   "metadata": {},
   "outputs": [],
   "source": []
  }
 ],
 "metadata": {
  "kernelspec": {
   "display_name": "Python 3",
   "language": "python",
   "name": "python3"
  },
  "language_info": {
   "codemirror_mode": {
    "name": "ipython",
    "version": 3
   },
   "file_extension": ".py",
   "mimetype": "text/x-python",
   "name": "python",
   "nbconvert_exporter": "python",
   "pygments_lexer": "ipython3",
   "version": "3.12.4"
  }
 },
 "nbformat": 4,
 "nbformat_minor": 2
}
